{
 "cells": [
  {
   "cell_type": "markdown",
   "metadata": {
    "id": "gswcHIx9_9oj"
   },
   "source": [
    "**Basic Text processing**\n",
    "In this we will be learning about basic processing which we will use in our application"
   ]
  },
  {
   "cell_type": "markdown",
   "metadata": {
    "id": "noHHDlGRK37V"
   },
   "source": [
    "**QUICK LOOK**\n",
    "\n",
    "\n"
   ]
  },
  {
   "cell_type": "markdown",
   "metadata": {
    "id": "qd4sTDTyAQws"
   },
   "source": [
    "String literals in python are surrounded by either single quotation marks, or double quotation marks.\n",
    "\n",
    "'hello' is the same as \"hello\""
   ]
  },
  {
   "cell_type": "code",
   "execution_count": 1,
   "metadata": {
    "colab": {
     "base_uri": "https://localhost:8080/"
    },
    "id": "oLP1DBCl5HiN",
    "outputId": "52fd71ad-7aee-4c2d-8bbc-2e329fa70b2a"
   },
   "outputs": [
    {
     "name": "stdout",
     "output_type": "stream",
     "text": [
      "hello\n"
     ]
    }
   ],
   "source": [
    "print('hello')"
   ]
  },
  {
   "cell_type": "markdown",
   "metadata": {
    "id": "-2clgE6__70b"
   },
   "source": []
  },
  {
   "cell_type": "code",
   "execution_count": 2,
   "metadata": {
    "colab": {
     "base_uri": "https://localhost:8080/"
    },
    "id": "dmLNLrbT5tFC",
    "outputId": "54d8cf8b-d5da-4e44-ac0c-fde176318083"
   },
   "outputs": [
    {
     "name": "stdout",
     "output_type": "stream",
     "text": [
      "hello\n"
     ]
    }
   ],
   "source": [
    "print(\"hello\")"
   ]
  },
  {
   "cell_type": "markdown",
   "metadata": {
    "id": "BbNDgkw1BH5W"
   },
   "source": [
    "**Multiline Strings**\n",
    "You can assign a multiline string to a variable by using three quotes"
   ]
  },
  {
   "cell_type": "code",
   "execution_count": 3,
   "metadata": {
    "colab": {
     "base_uri": "https://localhost:8080/"
    },
    "id": "SYIQ0nkr5u9l",
    "outputId": "405102ae-3909-41a6-cbda-1bdb9c27a786"
   },
   "outputs": [
    {
     "name": "stdout",
     "output_type": "stream",
     "text": [
      "Hello dsjkfhkjd dfjsdhfjkdhf sdhfkjshdfjksh fk\n",
      "dfdjfkjshkfhjksdhfkjshf hdfjkshkfhsjhdkf\n"
     ]
    }
   ],
   "source": [
    "print(\"\"\"Hello dsjkfhkjd dfjsdhfjkdhf sdhfkjshdfjksh fk\n",
    "dfdjfkjshkfhjksdhfkjshf hdfjkshkfhsjhdkf\"\"\")"
   ]
  },
  {
   "cell_type": "markdown",
   "metadata": {
    "id": "5qc77hK-BVkT"
   },
   "source": [
    "**A string is like an array**. A list is not an array as it can contain herogenous objects. A string is an array because like array, it contains only string or character inside it (*homogenous sequence of characters*)"
   ]
  },
  {
   "cell_type": "code",
   "execution_count": 7,
   "metadata": {
    "id": "yOP9vCRt5xtn"
   },
   "outputs": [],
   "source": [
    "a = ['sonali',44,66.7]"
   ]
  },
  {
   "cell_type": "code",
   "execution_count": 8,
   "metadata": {
    "colab": {
     "base_uri": "https://localhost:8080/"
    },
    "id": "bIYV5vmB6JDF",
    "outputId": "4bf4ab33-3957-45e7-ed88-83a0576feef6"
   },
   "outputs": [
    {
     "data": {
      "text/plain": [
       "['sonali', 44, 66.7]"
      ]
     },
     "execution_count": 8,
     "metadata": {},
     "output_type": "execute_result"
    }
   ],
   "source": [
    "a"
   ]
  },
  {
   "cell_type": "markdown",
   "metadata": {
    "id": "UPUFxUkYB4m-"
   },
   "source": [
    "**String slicing**"
   ]
  },
  {
   "cell_type": "code",
   "execution_count": 9,
   "metadata": {
    "id": "4xVfJBW-6JpH"
   },
   "outputs": [],
   "source": [
    "str = \"Sonali Lal\""
   ]
  },
  {
   "cell_type": "code",
   "execution_count": 10,
   "metadata": {
    "colab": {
     "base_uri": "https://localhost:8080/",
     "height": 35
    },
    "id": "4iAm8p1d6Q_O",
    "outputId": "4ff5fdeb-87bb-49ad-9ab2-7e5ed0d57f46"
   },
   "outputs": [
    {
     "data": {
      "text/plain": [
       "'Sonal'"
      ]
     },
     "execution_count": 10,
     "metadata": {},
     "output_type": "execute_result"
    }
   ],
   "source": [
    "str[0:5]"
   ]
  },
  {
   "cell_type": "markdown",
   "metadata": {
    "id": "g0lxfzEDB_UH"
   },
   "source": [
    "String slicing using negative index"
   ]
  },
  {
   "cell_type": "code",
   "execution_count": 11,
   "metadata": {
    "colab": {
     "base_uri": "https://localhost:8080/"
    },
    "id": "B8A1GJ956a-R",
    "outputId": "66396ff1-d4c7-4de8-a33c-2371768d17b1"
   },
   "outputs": [
    {
     "name": "stdout",
     "output_type": "stream",
     "text": [
      "orl\n"
     ]
    }
   ],
   "source": [
    "b = \"Hello, World!\"\n",
    "print(b[-5:-2])"
   ]
  },
  {
   "cell_type": "markdown",
   "metadata": {
    "id": "N8b_HN7zCUZM"
   },
   "source": [
    "Length of string - we use **len()** to find length of string"
   ]
  },
  {
   "cell_type": "code",
   "execution_count": 12,
   "metadata": {
    "colab": {
     "base_uri": "https://localhost:8080/"
    },
    "id": "kGLspc0D6rqp",
    "outputId": "3142a898-98f5-43ff-e05f-e451c94e614a"
   },
   "outputs": [
    {
     "data": {
      "text/plain": [
       "13"
      ]
     },
     "execution_count": 12,
     "metadata": {},
     "output_type": "execute_result"
    }
   ],
   "source": [
    "len(b)"
   ]
  },
  {
   "cell_type": "markdown",
   "metadata": {
    "id": "Y9IxE1o5CiNy"
   },
   "source": [
    "Split() - It breaks the sequence into smaller bits based on the delimeter passed"
   ]
  },
  {
   "cell_type": "code",
   "execution_count": 13,
   "metadata": {
    "id": "wpThkq8o7Cri"
   },
   "outputs": [],
   "source": [
    "user_enter = \"I am a banker and I work in bellandur\""
   ]
  },
  {
   "cell_type": "code",
   "execution_count": 14,
   "metadata": {
    "colab": {
     "base_uri": "https://localhost:8080/"
    },
    "id": "_vtWsz9L7zKC",
    "outputId": "bfb6226c-7b3c-4c59-fd98-98db6066285f"
   },
   "outputs": [
    {
     "data": {
      "text/plain": [
       "['I', 'am', 'a', 'banker', 'and', 'I', 'work', 'in', 'bellandur']"
      ]
     },
     "execution_count": 14,
     "metadata": {},
     "output_type": "execute_result"
    }
   ],
   "source": [
    "user_enter.split(\" \")"
   ]
  },
  {
   "cell_type": "code",
   "execution_count": 15,
   "metadata": {
    "id": "WC3xDhhB7496"
   },
   "outputs": [],
   "source": [
    "user_enter = \"I |am |a |banker| and| I work in bellandur\""
   ]
  },
  {
   "cell_type": "code",
   "execution_count": 16,
   "metadata": {
    "colab": {
     "base_uri": "https://localhost:8080/"
    },
    "id": "Dbvmmduo8B_i",
    "outputId": "e508a1d0-98fe-4b73-dafb-864c7a0b6ef0"
   },
   "outputs": [
    {
     "data": {
      "text/plain": [
       "['I ', 'am ', 'a ', 'banker', ' and', ' I work in bellandur']"
      ]
     },
     "execution_count": 16,
     "metadata": {},
     "output_type": "execute_result"
    }
   ],
   "source": [
    "user_enter.split(\"|\")"
   ]
  },
  {
   "cell_type": "code",
   "execution_count": 17,
   "metadata": {
    "colab": {
     "base_uri": "https://localhost:8080/"
    },
    "id": "nXTBc1eB8FsU",
    "outputId": "803ea419-af8a-4eae-b48b-43504a92476f"
   },
   "outputs": [
    {
     "name": "stdout",
     "output_type": "stream",
     "text": [
      "he has opened saving account\n"
     ]
    }
   ],
   "source": [
    "txt = \"Ram has open a saving account. He has transferred 5lacs in his account. We are charging 2 % for his savingaccount ...............\"\n",
    "if \"saving\" in txt:\n",
    "  print(\"he has opened saving account\")\n",
    "else:\n",
    "  print(\"he has opened other account\")"
   ]
  },
  {
   "cell_type": "code",
   "execution_count": 18,
   "metadata": {
    "colab": {
     "base_uri": "https://localhost:8080/"
    },
    "id": "_wrjK43c8_aO",
    "outputId": "9776a4b4-0e31-4332-efda-9b3a01de5abb"
   },
   "outputs": [
    {
     "name": "stdout",
     "output_type": "stream",
     "text": [
      "Ram's saving is 5000 and his earning is 60000\n"
     ]
    }
   ],
   "source": [
    "print(\"Ram's saving is {} and his earning is {}\".format(5000,60000))"
   ]
  },
  {
   "cell_type": "code",
   "execution_count": 27,
   "metadata": {
    "id": "mCoaE5fS96C2"
   },
   "outputs": [],
   "source": [
    "col1 = \"empno\"\n",
    "table1 = \"employee\"\n",
    "query = \"select {col} from {table}\".format(table=table1,col=col1)"
   ]
  },
  {
   "cell_type": "markdown",
   "metadata": {
    "id": "eBQ0MWC-_6lD"
   },
   "source": []
  },
  {
   "cell_type": "code",
   "execution_count": 28,
   "metadata": {
    "colab": {
     "base_uri": "https://localhost:8080/",
     "height": 35
    },
    "id": "VEhLGjhq-jGp",
    "outputId": "807f6d2f-e7bc-4e99-a2a9-42397c9246ed"
   },
   "outputs": [
    {
     "data": {
      "text/plain": [
       "'select empno from employee'"
      ]
     },
     "execution_count": 28,
     "metadata": {},
     "output_type": "execute_result"
    }
   ],
   "source": [
    "query"
   ]
  },
  {
   "cell_type": "code",
   "execution_count": 30,
   "metadata": {},
   "outputs": [
    {
     "name": "stdout",
     "output_type": "stream",
     "text": [
      "1-1-Downloading-Libs-and-Testing-That-They-Are-Working.ipynb\r\n",
      "basic_pre_processing.ipynb\r\n",
      "homework1.ipynb\r\n"
     ]
    }
   ],
   "source": [
    "! ls"
   ]
  },
  {
   "cell_type": "code",
   "execution_count": 29,
   "metadata": {
    "colab": {
     "base_uri": "https://localhost:8080/"
    },
    "id": "Jg1nlZSk-kYg",
    "outputId": "131238af-0d1c-4547-dda3-0816e85a3c18"
   },
   "outputs": [
    {
     "name": "stdout",
     "output_type": "stream",
     "text": [
      "ls: sample_data/: No such file or directory\r\n"
     ]
    }
   ],
   "source": [
    "! ls 'sample_data/'"
   ]
  },
  {
   "cell_type": "code",
   "execution_count": 31,
   "metadata": {
    "id": "2RJjswg1DIuS"
   },
   "outputs": [
    {
     "ename": "FileNotFoundError",
     "evalue": "[Errno 2] No such file or directory: 'sample_data/README.md'",
     "output_type": "error",
     "traceback": [
      "\u001b[0;31m---------------------------------------------------------------------------\u001b[0m",
      "\u001b[0;31mFileNotFoundError\u001b[0m                         Traceback (most recent call last)",
      "\u001b[0;32m<ipython-input-31-30a50a2f8a3c>\u001b[0m in \u001b[0;36m<module>\u001b[0;34m\u001b[0m\n\u001b[0;32m----> 1\u001b[0;31m \u001b[0mfile\u001b[0m \u001b[0;34m=\u001b[0m \u001b[0mopen\u001b[0m\u001b[0;34m(\u001b[0m\u001b[0;34m\"sample_data/README.md\"\u001b[0m\u001b[0;34m)\u001b[0m\u001b[0;34m\u001b[0m\u001b[0;34m\u001b[0m\u001b[0m\n\u001b[0m",
      "\u001b[0;31mFileNotFoundError\u001b[0m: [Errno 2] No such file or directory: 'sample_data/README.md'"
     ]
    }
   ],
   "source": [
    "file = open(\"sample_data/README.md\")"
   ]
  },
  {
   "cell_type": "code",
   "execution_count": 27,
   "metadata": {
    "colab": {
     "base_uri": "https://localhost:8080/",
     "height": 154
    },
    "id": "HXf3YYGSDPwS",
    "outputId": "4eeea73e-5a7e-4c8f-d8ba-036966da8e48"
   },
   "outputs": [
    {
     "data": {
      "application/vnd.google.colaboratory.intrinsic+json": {
       "type": "string"
      },
      "text/plain": [
       "\"This directory includes a few sample datasets to get you started.\\n\\n*   `california_housing_data*.csv` is California housing data from the 1990 US\\n    Census; more information is available at:\\n    https://developers.google.com/machine-learning/crash-course/california-housing-data-description\\n\\n*   `mnist_*.csv` is a small sample of the\\n    [MNIST database](https://en.wikipedia.org/wiki/MNIST_database), which is\\n    described at: http://yann.lecun.com/exdb/mnist/\\n\\n*   `anscombe.json` contains a copy of\\n    [Anscombe's quartet](https://en.wikipedia.org/wiki/Anscombe%27s_quartet); it\\n    was originally described in\\n\\n    Anscombe, F. J. (1973). 'Graphs in Statistical Analysis'. American\\n    Statistician. 27 (1): 17-21. JSTOR 2682899.\\n\\n    and our copy was prepared by the\\n    [vega_datasets library](https://github.com/altair-viz/vega_datasets/blob/4f67bdaad10f45e3549984e17e1b3088c731503d/vega_datasets/_data/anscombe.json).\\n\""
      ]
     },
     "execution_count": 27,
     "metadata": {
      "tags": []
     },
     "output_type": "execute_result"
    }
   ],
   "source": [
    "file.read()"
   ]
  },
  {
   "cell_type": "code",
   "execution_count": 30,
   "metadata": {
    "colab": {
     "base_uri": "https://localhost:8080/",
     "height": 154
    },
    "id": "AY8tEHQGEAAQ",
    "outputId": "fd638233-73ab-440a-d976-debf70c5385c"
   },
   "outputs": [
    {
     "data": {
      "application/vnd.google.colaboratory.intrinsic+json": {
       "type": "string"
      },
      "text/plain": [
       "\"This directory includes a few sample datasets to get you started.\\n\\n*   `california_housing_data*.csv` is California housing data from the 1990 US\\n    Census; more information is available at:\\n    https://developers.google.com/machine-learning/crash-course/california-housing-data-description\\n\\n*   `mnist_*.csv` is a small sample of the\\n    [MNIST database](https://en.wikipedia.org/wiki/MNIST_database), which is\\n    described at: http://yann.lecun.com/exdb/mnist/\\n\\n*   `anscombe.json` contains a copy of\\n    [Anscombe's quartet](https://en.wikipedia.org/wiki/Anscombe%27s_quartet); it\\n    was originally described in\\n\\n    Anscombe, F. J. (1973). 'Graphs in Statistical Analysis'. American\\n    Statistician. 27 (1): 17-21. JSTOR 2682899.\\n\\n    and our copy was prepared by the\\n    [vega_datasets library](https://github.com/altair-viz/vega_datasets/blob/4f67bdaad10f45e3549984e17e1b3088c731503d/vega_datasets/_data/anscombe.json).\\n\""
      ]
     },
     "execution_count": 30,
     "metadata": {
      "tags": []
     },
     "output_type": "execute_result"
    }
   ],
   "source": [
    "file.read()"
   ]
  },
  {
   "cell_type": "code",
   "execution_count": 34,
   "metadata": {
    "colab": {
     "base_uri": "https://localhost:8080/",
     "height": 35
    },
    "id": "KgGLCy-IEEMo",
    "outputId": "5deccfbb-01c7-4af1-d068-2c94ada30c0f"
   },
   "outputs": [
    {
     "data": {
      "application/vnd.google.colaboratory.intrinsic+json": {
       "type": "string"
      },
      "text/plain": [
       "'*   `california_housing_data*.csv` is California housing data from the 1990 US\\n'"
      ]
     },
     "execution_count": 34,
     "metadata": {
      "tags": []
     },
     "output_type": "execute_result"
    }
   ],
   "source": [
    "file.readline()"
   ]
  },
  {
   "cell_type": "code",
   "execution_count": 35,
   "metadata": {
    "id": "xBlC2-UHEVJy"
   },
   "outputs": [],
   "source": [
    "lines = file.read()"
   ]
  },
  {
   "cell_type": "code",
   "execution_count": 36,
   "metadata": {
    "colab": {
     "base_uri": "https://localhost:8080/",
     "height": 137
    },
    "id": "QHeOFNB8Eh04",
    "outputId": "0995549a-8c46-4c57-a43e-78be778c87c3"
   },
   "outputs": [
    {
     "data": {
      "application/vnd.google.colaboratory.intrinsic+json": {
       "type": "string"
      },
      "text/plain": [
       "\"    Census; more information is available at:\\n    https://developers.google.com/machine-learning/crash-course/california-housing-data-description\\n\\n*   `mnist_*.csv` is a small sample of the\\n    [MNIST database](https://en.wikipedia.org/wiki/MNIST_database), which is\\n    described at: http://yann.lecun.com/exdb/mnist/\\n\\n*   `anscombe.json` contains a copy of\\n    [Anscombe's quartet](https://en.wikipedia.org/wiki/Anscombe%27s_quartet); it\\n    was originally described in\\n\\n    Anscombe, F. J. (1973). 'Graphs in Statistical Analysis'. American\\n    Statistician. 27 (1): 17-21. JSTOR 2682899.\\n\\n    and our copy was prepared by the\\n    [vega_datasets library](https://github.com/altair-viz/vega_datasets/blob/4f67bdaad10f45e3549984e17e1b3088c731503d/vega_datasets/_data/anscombe.json).\\n\""
      ]
     },
     "execution_count": 36,
     "metadata": {
      "tags": []
     },
     "output_type": "execute_result"
    }
   ],
   "source": [
    "lines"
   ]
  },
  {
   "cell_type": "code",
   "execution_count": 38,
   "metadata": {
    "id": "T-bTbP1KEjN_"
   },
   "outputs": [],
   "source": [
    "lines_list = lines.split('\\n')"
   ]
  },
  {
   "cell_type": "code",
   "execution_count": 40,
   "metadata": {
    "colab": {
     "base_uri": "https://localhost:8080/",
     "height": 35
    },
    "id": "-GiGXM8kEpTl",
    "outputId": "66fc1c80-d224-479a-cbdb-bedd7eac5c8b"
   },
   "outputs": [
    {
     "data": {
      "application/vnd.google.colaboratory.intrinsic+json": {
       "type": "string"
      },
      "text/plain": [
       "\"    [Anscombe's quartet](https://en.wikipedia.org/wiki/Anscombe%27s_quartet); it\""
      ]
     },
     "execution_count": 40,
     "metadata": {
      "tags": []
     },
     "output_type": "execute_result"
    }
   ],
   "source": [
    "lines_list[8]"
   ]
  },
  {
   "cell_type": "code",
   "execution_count": 42,
   "metadata": {
    "colab": {
     "base_uri": "https://localhost:8080/"
    },
    "id": "6PX25qhREz91",
    "outputId": "06103cc4-fa4b-400a-8a80-1fc277a55671"
   },
   "outputs": [
    {
     "name": "stdout",
     "output_type": "stream",
     "text": [
      "    Census; more information is available at:\n",
      "    https://developers.google.com/machine-learning/crash-course/california-housing-data-description\n",
      "*   `mnist_*.csv` is a small sample of the\n",
      "    [MNIST database](https://en.wikipedia.org/wiki/MNIST_database), which is\n",
      "    described at: http://yann.lecun.com/exdb/mnist/\n",
      "*   `anscombe.json` contains a copy of\n",
      "    [Anscombe's quartet](https://en.wikipedia.org/wiki/Anscombe%27s_quartet); it\n",
      "    was originally described in\n",
      "    Anscombe, F. J. (1973). 'Graphs in Statistical Analysis'. American\n",
      "    Statistician. 27 (1): 17-21. JSTOR 2682899.\n",
      "    and our copy was prepared by the\n",
      "    [vega_datasets library](https://github.com/altair-viz/vega_datasets/blob/4f67bdaad10f45e3549984e17e1b3088c731503d/vega_datasets/_data/anscombe.json).\n"
     ]
    }
   ],
   "source": [
    "for l in lines_list:\n",
    "   if l != \"\":\n",
    "     print(l)"
   ]
  },
  {
   "cell_type": "code",
   "execution_count": 43,
   "metadata": {
    "id": "PTmlOTPPE81M"
   },
   "outputs": [],
   "source": [
    "file.close()"
   ]
  },
  {
   "cell_type": "code",
   "execution_count": 37,
   "metadata": {
    "id": "Ug4CLp4eFd0r"
   },
   "outputs": [],
   "source": [
    "f = open(\"demofile2.txt\", \"a\")\n",
    "f.write(\"Now the file has more content!\")\n",
    "f.close()"
   ]
  },
  {
   "cell_type": "code",
   "execution_count": 38,
   "metadata": {
    "id": "ReAwDjImFqL8"
   },
   "outputs": [],
   "source": [
    "f = open(\"demofile2.txt\", \"a\")\n",
    "f.write(\"I am adding a second line\")\n",
    "f.close()"
   ]
  },
  {
   "cell_type": "code",
   "execution_count": 39,
   "metadata": {
    "id": "9GwJyuAwGSAV"
   },
   "outputs": [],
   "source": [
    "import os\n",
    "os.remove(\"demofile2.txt\")"
   ]
  },
  {
   "cell_type": "code",
   "execution_count": 35,
   "metadata": {
    "colab": {
     "base_uri": "https://localhost:8080/"
    },
    "id": "fU0B7oJiHkAe",
    "outputId": "0c430253-b2c9-4c7f-9277-cadc4765f3c6"
   },
   "outputs": [
    {
     "name": "stdout",
     "output_type": "stream",
     "text": [
      "The file does not exist\n"
     ]
    }
   ],
   "source": [
    "if os.path.exists(\"demofile.txt\"):\n",
    "  os.remove(\"demofile.txt\")\n",
    "else:\n",
    "  print(\"The file does not exist\")"
   ]
  },
  {
   "cell_type": "code",
   "execution_count": 36,
   "metadata": {
    "id": "VSa62KoxHqrX"
   },
   "outputs": [
    {
     "ename": "FileNotFoundError",
     "evalue": "[Errno 2] No such file or directory: 'sample_data/test'",
     "output_type": "error",
     "traceback": [
      "\u001b[0;31m---------------------------------------------------------------------------\u001b[0m",
      "\u001b[0;31mFileNotFoundError\u001b[0m                         Traceback (most recent call last)",
      "\u001b[0;32m<ipython-input-36-66dfa1ca1e82>\u001b[0m in \u001b[0;36m<module>\u001b[0;34m\u001b[0m\n\u001b[1;32m      1\u001b[0m \u001b[0;32mimport\u001b[0m \u001b[0mos\u001b[0m\u001b[0;34m\u001b[0m\u001b[0;34m\u001b[0m\u001b[0m\n\u001b[0;32m----> 2\u001b[0;31m \u001b[0mos\u001b[0m\u001b[0;34m.\u001b[0m\u001b[0mrmdir\u001b[0m\u001b[0;34m(\u001b[0m\u001b[0;34m\"sample_data/test\"\u001b[0m\u001b[0;34m)\u001b[0m\u001b[0;34m\u001b[0m\u001b[0;34m\u001b[0m\u001b[0m\n\u001b[0m",
      "\u001b[0;31mFileNotFoundError\u001b[0m: [Errno 2] No such file or directory: 'sample_data/test'"
     ]
    }
   ],
   "source": [
    "import os\n",
    "os.rmdir(\"sample_data/test\")"
   ]
  },
  {
   "cell_type": "code",
   "execution_count": null,
   "metadata": {
    "id": "ntufTvIEH5sb"
   },
   "outputs": [],
   "source": []
  }
 ],
 "metadata": {
  "colab": {
   "name": "basic_pre_processing",
   "provenance": []
  },
  "kernelspec": {
   "display_name": "Python 3",
   "language": "python",
   "name": "python3"
  },
  "language_info": {
   "codemirror_mode": {
    "name": "ipython",
    "version": 3
   },
   "file_extension": ".py",
   "mimetype": "text/x-python",
   "name": "python",
   "nbconvert_exporter": "python",
   "pygments_lexer": "ipython3",
   "version": "3.8.3"
  }
 },
 "nbformat": 4,
 "nbformat_minor": 1
}
