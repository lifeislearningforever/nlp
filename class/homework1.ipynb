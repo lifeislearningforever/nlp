{
 "cells": [
  {
   "cell_type": "markdown",
   "metadata": {},
   "source": [
    "# Basic preprocessing text homework\n"
   ]
  },
  {
   "cell_type": "markdown",
   "metadata": {},
   "source": [
    "1. Practice these two links - https://www.w3schools.com/python/python_strings.asp   ; https://www.w3schools.com/python/python_string_formatting.asp"
   ]
  },
  {
   "cell_type": "markdown",
   "metadata": {},
   "source": [
    "2. Practice os module, 4 links (double click on cell to view correctly) - https://www.w3schools.com/python/python_string_formatting.asp;https://www.w3schools.com/python/python_file_handling.asp;\n",
    "https://www.w3schools.com/python/python_file_open.asp;\n",
    "https://www.w3schools.com/python/python_file_write.asp;\n",
    "https://www.w3schools.com/python/python_file_remove.asp"
   ]
  },
  {
   "cell_type": "markdown",
   "metadata": {},
   "source": [
    "3. Read all the question and answers and put it in github along with the codes. The questions where answers are not provides, write the answer by yourself"
   ]
  },
  {
   "cell_type": "markdown",
   "metadata": {},
   "source": [
    "4. Practice on colab"
   ]
  },
  {
   "cell_type": "code",
   "execution_count": 2,
   "metadata": {},
   "outputs": [],
   "source": [
    "# Write code to create a file name emails.txt and write three emails in three lines\n",
    "f = open('emails.txt','x')\n",
    "f.write('abc@gmail.com\\n')\n",
    "f.write('xyz@gmail.com\\n')\n",
    "f.write('test@gmail.com\\n')\n",
    "f.close()"
   ]
  },
  {
   "cell_type": "code",
   "execution_count": 5,
   "metadata": {},
   "outputs": [],
   "source": [
    "# Write code to create a file name user.txt and write three username,password in three lines\n",
    "f = open('user.txt','x')\n",
    "f.write('abc,abc@123\\n')\n",
    "f.write('xyz,xyz@123\\n')\n",
    "f.write('test,test@123\\n')\n",
    "f.close()"
   ]
  },
  {
   "cell_type": "code",
   "execution_count": 22,
   "metadata": {},
   "outputs": [],
   "source": [
    "combine =[]\n",
    "\n",
    "with open(\"emails.txt\") as emails:\n",
    "    with open('user.txt') as user:\n",
    "        with open(\"user_details.txt\",\"w\") as ud:\n",
    "            ud.write('email,user,password\\n')\n",
    "            emaillines = emails.readlines()\n",
    "            userlines = user.readlines()\n",
    "            for i in range(len(emaillines)):\n",
    "                line = emaillines[i].strip() + ',' + userlines[i]\n",
    "                ud.write(line)"
   ]
  },
  {
   "cell_type": "code",
   "execution_count": 23,
   "metadata": {},
   "outputs": [
    {
     "name": "stdout",
     "output_type": "stream",
     "text": [
      "email,user,password\n",
      "abc@gmail.com,abc,abc@123\n",
      "xyz@gmail.com,xyz,xyz@123\n",
      "test@gmail.com,test,test@123\n",
      "\n"
     ]
    }
   ],
   "source": [
    "# print the content in format user, password, email format\n",
    "\n",
    "with open('user_details.txt','r') as f:\n",
    "    print(f.read())\n"
   ]
  },
  {
   "cell_type": "code",
   "execution_count": 25,
   "metadata": {},
   "outputs": [
    {
     "data": {
      "text/plain": [
       "'Twenty-three days after Thanos used the Infinity Gauntlet to disintegrate half of all life in the universe,[N 1] Carol Danvers rescues Tony Stark and Nebula from deep space and returns them to Earth, where they reunite with the remaining Avengers—Bruce Banner, Steve Rogers, Thor, Natasha Romanoff, and James Rhodes—and Rocket. Locating Thanos on an uninhabited planet, they plan to use the Infinity Stones to reverse \"the Snap\", but Thanos reveals he destroyed the Stones to prevent further use. Enraged, Thor decapitates Thanos.\\n\\nFive years later, Scott Lang escapes from the quantum realm.[N 2] At the Avengers\\' compound, he explains to Romanoff and Rogers he experienced five hours, not years, while trapped. Theorizing the quantum realm could allow time travel, they ask Stark to help them obtain the Stones from the past to undo Thanos\\' actions in the present. Stark refuses, thinking about his wife, Pepper Potts, and daughter, Morgan, but relents after musing on the death of Peter Parker. Stark, Rocket, and Banner, who has since merged his intelligence with the Hulk\\'s strength, build a time machine. Banner notes changing the past does not affect their present; any changes instead create branched alternate realities. He and Rocket visit the Asgardian refugees\\' new home in Norway—New Asgard—to recruit Thor, now overweight and drinking heavily, despondent over his failure to stop Thanos. In Tokyo, Romanoff recruits Clint Barton, now a vigilante following Thanos\\' disintegration of his family.\\n\\nBanner, Lang, Rogers, and Stark travel to New York City in 2012.[N 3] Banner visits the Sanctum Sanctorum and convinces the Ancient One to give him the Time Stone. At Stark Tower, Rogers retrieves the Mind Stone, but Stark and Lang\\'s attempt to steal the Space Stone fails, allowing 2012 Loki to escape with it. Rogers and Stark travel to S.H.I.E.L.D. headquarters in 1970, where Stark obtains an earlier version of the Space Stone and encounters his father, Howard. Rogers steals Pym Particles from Hank Pym to use in returning to the present, and spies lost love Peggy Carter.\\n\\nMeanwhile, Rocket and Thor travel to Asgard in 2013, extracting the Reality Stone from Jane Foster[N 4] and retrieving Thor\\'s hammer Mjolnir. Barton and Romanoff travel to Vormir in 2014, where the Soul Stone\\'s keeper, the Red Skull, reveals it can only be acquired by sacrificing someone they love. Romanoff sacrifices herself, allowing Barton to obtain the Soul Stone. Nebula and Rhodes travel to Morag in 2014 and steal the Power Stone before Peter Quill can.[N 5] Rhodes returns to the present with the Power Stone, but Nebula becomes incapacitated when her cybernetic implants link with those of her past self, allowing 2014 Thanos to learn of his fate at the hands of the Avengers. Thanos replaces present-day Nebula with 2014 Nebula.\\n\\nReuniting in the present, the Avengers place the Stones into a technological gauntlet Stark, Banner, and Rocket have created. Banner, the most resistant to the Stones\\' gamma radiation, is chosen to wield the gauntlet and reverses the disintegrations. Meanwhile, 2014 Nebula uses the time machine to transport 2014 Thanos and his warship to the present, where he attacks the Avengers\\' compound looking for the Stones. Present-day Nebula convinces 2014 Gamora to betray Thanos but is unable to convince 2014 Nebula and is forced to kill her. Confronted by Stark, Thor, and a Mjolnir-wielding Rogers, Thanos outmatches them and summons his army from his warship to retrieve the Stones, intent on using them to destroy the universe and create a new one. Stephen Strange arrives with other sorcerers, the restored Avengers and Guardians of the Galaxy, the Ravagers, and the armies of Wakanda and Asgard to fight Thanos and his army. Danvers arrives and destroys Thanos\\' warship, but Thanos overpowers her and seizes the gauntlet. Stark steals the Stones and uses them to disintegrate Thanos and his army, at the cost of his own life.\\n\\nFollowing Stark\\'s funeral, Thor appoints Valkyrie as the new ruler of New Asgard and joins the Guardians. Rogers returns the Infinity Stones and Mjolnir to their original timelines and remains in the past to live with Carter. In the present, an elderly Rogers passes his shield and mantle to Sam Wilson'"
      ]
     },
     "execution_count": 25,
     "metadata": {},
     "output_type": "execute_result"
    }
   ],
   "source": [
    "# open the file avengers.txt\n",
    "f = open('avengers.txt','r')\n",
    "f.read()"
   ]
  },
  {
   "cell_type": "code",
   "execution_count": 27,
   "metadata": {},
   "outputs": [
    {
     "name": "stdout",
     "output_type": "stream",
     "text": [
      "Twenty-three days after Thanos used the Infinity Gauntlet to disintegrate half of all life in the universe,[N 1] Carol Danvers rescues Tony Stark and Nebula from deep space and returns them to Earth, where they reunite with the remaining Avengers—Bruce Banner, Steve Rogers, Thor, Natasha Romanoff, and James Rhodes—and Rocket. Locating Thanos on an uninhabited planet, they plan to use the Infinity Stones to reverse \"the Snap\", but Thanos reveals he destroyed the Stones to prevent further use. Enraged, Thor decapitates Thanos.\n",
      "\n",
      "Five years later, Scott Lang escapes from the quantum realm.[N 2] At the Avengers' compound, he explains to Romanoff and Rogers he experienced five hours, not years, while trapped. Theorizing the quantum realm could allow time travel, they ask Stark to help them obtain the Stones from the past to undo Thanos' actions in the present. Stark refuses, thinking about his wife, Pepper Potts, and daughter, Morgan, but relents after musing on the death of Peter Parker. Stark, Rocket, and Banner, who has since merged his intelligence with the Hulk's strength, build a time machine. Banner notes changing the past does not affect their present; any changes instead create branched alternate realities. He and Rocket visit the Asgardian refugees' new home in Norway—New Asgard—to recruit Thor, now overweight and drinking heavily, despondent over his failure to stop Thanos. In Tokyo, Romanoff recruits Clint Barton, now a vigilante following Thanos' disintegration of his family.\n",
      "\n",
      "Banner, Lang, Rogers, and Stark travel to New York City in 2012.[N 3] Banner visits the Sanctum Sanctorum and convinces the Ancient One to give him the Time Stone. At Stark Tower, Rogers retrieves the Mind Stone, but Stark and Lang's attempt to steal the Space Stone fails, allowing 2012 Loki to escape with it. Rogers and Stark travel to S.H.I.E.L.D. headquarters in 1970, where Stark obtains an earlier version of the Space Stone and encounters his father, Howard. Rogers steals Pym Particles from Hank Pym to use in returning to the present, and spies lost love Peggy Carter.\n",
      "\n",
      "Meanwhile, Rocket and Thor travel to Asgard in 2013, extracting the Reality Stone from Jane Foster[N 4] and retrieving Thor's hammer Mjolnir. Barton and Romanoff travel to Vormir in 2014, where the Soul Stone's keeper, the Red Skull, reveals it can only be acquired by sacrificing someone they love. Romanoff sacrifices herself, allowing Barton to obtain the Soul Stone. Nebula and Rhodes travel to Morag in 2014 and steal the Power Stone before Peter Quill can.[N 5] Rhodes returns to the present with the Power Stone, but Nebula becomes incapacitated when her cybernetic implants link with those of her past self, allowing 2014 Thanos to learn of his fate at the hands of the Avengers. Thanos replaces present-day Nebula with 2014 Nebula.\n",
      "\n",
      "Reuniting in the present, the Avengers place the Stones into a technological gauntlet Stark, Banner, and Rocket have created. Banner, the most resistant to the Stones' gamma radiation, is chosen to wield the gauntlet and reverses the disintegrations. Meanwhile, 2014 Nebula uses the time machine to transport 2014 Thanos and his warship to the present, where he attacks the Avengers' compound looking for the Stones. Present-day Nebula convinces 2014 Gamora to betray Thanos but is unable to convince 2014 Nebula and is forced to kill her. Confronted by Stark, Thor, and a Mjolnir-wielding Rogers, Thanos outmatches them and summons his army from his warship to retrieve the Stones, intent on using them to destroy the universe and create a new one. Stephen Strange arrives with other sorcerers, the restored Avengers and Guardians of the Galaxy, the Ravagers, and the armies of Wakanda and Asgard to fight Thanos and his army. Danvers arrives and destroys Thanos' warship, but Thanos overpowers her and seizes the gauntlet. Stark steals the Stones and uses them to disintegrate Thanos and his army, at the cost of his own life.\n",
      "\n",
      "Following Stark's funeral, Thor appoints Valkyrie as the new ruler of New Asgard and joins the Guardians. Rogers returns the Infinity Stones and Mjolnir to their original timelines and remains in the past to live with Carter. In the present, an elderly Rogers passes his shield and mantle to Sam Wilson\n"
     ]
    }
   ],
   "source": [
    "# store the lines in the list\n",
    "lines =[]\n",
    "f = open('avengers.txt','r')\n",
    "lines = f.read()\n",
    "print(lines)"
   ]
  },
  {
   "cell_type": "code",
   "execution_count": 30,
   "metadata": {},
   "outputs": [
    {
     "name": "stdout",
     "output_type": "stream",
     "text": [
      "twenty-three days after thanos used the infinity gauntlet to disintegrate half of all life in the universe,[n 1] carol danvers rescues tony stark and nebula from deep space and returns them to earth, where they reunite with the remaining avengers—bruce banner, steve rogers, thor, natasha romanoff, and james rhodes—and rocket. locating thanos on an uninhabited planet, they plan to use the infinity stones to reverse \"the snap\", but thanos reveals he destroyed the stones to prevent further use. enraged, thor decapitates thanos.\n",
      "\n",
      "five years later, scott lang escapes from the quantum realm.[n 2] at the avengers' compound, he explains to romanoff and rogers he experienced five hours, not years, while trapped. theorizing the quantum realm could allow time travel, they ask stark to help them obtain the stones from the past to undo thanos' actions in the present. stark refuses, thinking about his wife, pepper potts, and daughter, morgan, but relents after musing on the death of peter parker. stark, rocket, and banner, who has since merged his intelligence with the hulk's strength, build a time machine. banner notes changing the past does not affect their present; any changes instead create branched alternate realities. he and rocket visit the asgardian refugees' new home in norway—new asgard—to recruit thor, now overweight and drinking heavily, despondent over his failure to stop thanos. in tokyo, romanoff recruits clint barton, now a vigilante following thanos' disintegration of his family.\n",
      "\n",
      "banner, lang, rogers, and stark travel to new york city in 2012.[n 3] banner visits the sanctum sanctorum and convinces the ancient one to give him the time stone. at stark tower, rogers retrieves the mind stone, but stark and lang's attempt to steal the space stone fails, allowing 2012 loki to escape with it. rogers and stark travel to s.h.i.e.l.d. headquarters in 1970, where stark obtains an earlier version of the space stone and encounters his father, howard. rogers steals pym particles from hank pym to use in returning to the present, and spies lost love peggy carter.\n",
      "\n",
      "meanwhile, rocket and thor travel to asgard in 2013, extracting the reality stone from jane foster[n 4] and retrieving thor's hammer mjolnir. barton and romanoff travel to vormir in 2014, where the soul stone's keeper, the red skull, reveals it can only be acquired by sacrificing someone they love. romanoff sacrifices herself, allowing barton to obtain the soul stone. nebula and rhodes travel to morag in 2014 and steal the power stone before peter quill can.[n 5] rhodes returns to the present with the power stone, but nebula becomes incapacitated when her cybernetic implants link with those of her past self, allowing 2014 thanos to learn of his fate at the hands of the avengers. thanos replaces present-day nebula with 2014 nebula.\n",
      "\n",
      "reuniting in the present, the avengers place the stones into a technological gauntlet stark, banner, and rocket have created. banner, the most resistant to the stones' gamma radiation, is chosen to wield the gauntlet and reverses the disintegrations. meanwhile, 2014 nebula uses the time machine to transport 2014 thanos and his warship to the present, where he attacks the avengers' compound looking for the stones. present-day nebula convinces 2014 gamora to betray thanos but is unable to convince 2014 nebula and is forced to kill her. confronted by stark, thor, and a mjolnir-wielding rogers, thanos outmatches them and summons his army from his warship to retrieve the stones, intent on using them to destroy the universe and create a new one. stephen strange arrives with other sorcerers, the restored avengers and guardians of the galaxy, the ravagers, and the armies of wakanda and asgard to fight thanos and his army. danvers arrives and destroys thanos' warship, but thanos overpowers her and seizes the gauntlet. stark steals the stones and uses them to disintegrate thanos and his army, at the cost of his own life.\n",
      "\n",
      "following stark's funeral, thor appoints valkyrie as the new ruler of new asgard and joins the guardians. rogers returns the infinity stones and mjolnir to their original timelines and remains in the past to live with carter. in the present, an elderly rogers passes his shield and mantle to sam wilson\n"
     ]
    }
   ],
   "source": [
    "# convert all lines in lower case\n",
    "# store the lines in the list\n",
    "lines =[]\n",
    "f = open('avengers.txt','r')\n",
    "lines = f.read()\n",
    "print(lines.lower())"
   ]
  },
  {
   "cell_type": "code",
   "execution_count": 31,
   "metadata": {},
   "outputs": [
    {
     "name": "stdout",
     "output_type": "stream",
     "text": [
      "TwentythreedaysafterThanosusedtheInfinityGauntlettodisintegratehalfofalllifeintheuniverseN1CarolDanversrescuesTonyStarkandNebulafromdeepspaceandreturnsthemtoEarthwheretheyreunitewiththeremainingAvengersBruceBannerSteveRogersThorNatashaRomanoffandJamesRhodesandRocketLocatingThanosonanuninhabitedplanettheyplantousetheInfinityStonestoreversetheSnapbutThanosrevealshedestroyedtheStonestopreventfurtheruseEnragedThordecapitatesThanosFiveyearslaterScottLangescapesfromthequantumrealmN2AttheAvengerscompoundheexplainstoRomanoffandRogersheexperiencedfivehoursnotyearswhiletrappedTheorizingthequantumrealmcouldallowtimetraveltheyaskStarktohelpthemobtaintheStonesfromthepasttoundoThanosactionsinthepresentStarkrefusesthinkingabouthiswifePepperPottsanddaughterMorganbutrelentsaftermusingonthedeathofPeterParkerStarkRocketandBannerwhohassincemergedhisintelligencewiththeHulksstrengthbuildatimemachineBannernoteschangingthepastdoesnotaffecttheirpresentanychangesinsteadcreatebranchedalternaterealitiesHeandRocketvisittheAsgardianrefugeesnewhomeinNorwayNewAsgardtorecruitThornowoverweightanddrinkingheavilydespondentoverhisfailuretostopThanosInTokyoRomanoffrecruitsClintBartonnowavigilantefollowingThanosdisintegrationofhisfamilyBannerLangRogersandStarktraveltoNewYorkCityin2012N3BannervisitstheSanctumSanctorumandconvincestheAncientOnetogivehimtheTimeStoneAtStarkTowerRogersretrievestheMindStonebutStarkandLangsattempttostealtheSpaceStonefailsallowing2012LokitoescapewithitRogersandStarktraveltoSHIELDheadquartersin1970whereStarkobtainsanearlierversionoftheSpaceStoneandencountershisfatherHowardRogersstealsPymParticlesfromHankPymtouseinreturningtothepresentandspieslostlovePeggyCarterMeanwhileRocketandThortraveltoAsgardin2013extractingtheRealityStonefromJaneFosterN4andretrievingThorshammerMjolnirBartonandRomanofftraveltoVormirin2014wheretheSoulStoneskeepertheRedSkullrevealsitcanonlybeacquiredbysacrificingsomeonetheyloveRomanoffsacrificesherselfallowingBartontoobtaintheSoulStoneNebulaandRhodestraveltoMoragin2014andstealthePowerStonebeforePeterQuillcanN5RhodesreturnstothepresentwiththePowerStonebutNebulabecomesincapacitatedwhenhercyberneticimplantslinkwiththoseofherpastselfallowing2014ThanostolearnofhisfateatthehandsoftheAvengersThanosreplacespresentdayNebulawith2014NebulaReunitinginthepresenttheAvengersplacetheStonesintoatechnologicalgauntletStarkBannerandRockethavecreatedBannerthemostresistanttotheStonesgammaradiationischosentowieldthegauntletandreversesthedisintegrationsMeanwhile2014Nebulausesthetimemachinetotransport2014ThanosandhiswarshiptothepresentwhereheattackstheAvengerscompoundlookingfortheStonesPresentdayNebulaconvinces2014GamoratobetrayThanosbutisunabletoconvince2014NebulaandisforcedtokillherConfrontedbyStarkThorandaMjolnirwieldingRogersThanosoutmatchesthemandsummonshisarmyfromhiswarshiptoretrievetheStonesintentonusingthemtodestroytheuniverseandcreateanewoneStephenStrangearriveswithothersorcererstherestoredAvengersandGuardiansoftheGalaxytheRavagersandthearmiesofWakandaandAsgardtofightThanosandhisarmyDanversarrivesanddestroysThanoswarshipbutThanosoverpowersherandseizesthegauntletStarkstealstheStonesandusesthemtodisintegrateThanosandhisarmyatthecostofhisownlifeFollowingStarksfuneralThorappointsValkyrieasthenewrulerofNewAsgardandjoinstheGuardiansRogersreturnstheInfinityStonesandMjolnirtotheiroriginaltimelinesandremainsinthepasttolivewithCarterInthepresentanelderlyRogerspasseshisshieldandmantletoSamWilson\n"
     ]
    }
   ],
   "source": [
    "# remove all special characters\n",
    "f = open('avengers.txt','r')\n",
    "lines = f.read()\n",
    "new_string = ''.join(char for char in lines if char.isalnum())\n",
    "print(new_string)"
   ]
  },
  {
   "cell_type": "code",
   "execution_count": 39,
   "metadata": {},
   "outputs": [
    {
     "name": "stdout",
     "output_type": "stream",
     "text": [
      "691\n",
      "11\n"
     ]
    }
   ],
   "source": [
    "# print three words from all lines\n",
    "number_of_lines = 0\n",
    "number_of_words = 0\n",
    "f = open('avengers.txt','r')\n",
    "for line in f:\n",
    "    line = line.strip(\"\\n\")\n",
    "    \n",
    "    words = line.split()\n",
    "    number_of_lines += 1\n",
    "    number_of_words += len(words)\n",
    "\n",
    "print(number_of_words)\n",
    "print(number_of_lines)"
   ]
  }
 ],
 "metadata": {
  "kernelspec": {
   "display_name": "Python 3",
   "language": "python",
   "name": "python3"
  },
  "language_info": {
   "codemirror_mode": {
    "name": "ipython",
    "version": 3
   },
   "file_extension": ".py",
   "mimetype": "text/x-python",
   "name": "python",
   "nbconvert_exporter": "python",
   "pygments_lexer": "ipython3",
   "version": "3.8.3"
  }
 },
 "nbformat": 4,
 "nbformat_minor": 4
}
